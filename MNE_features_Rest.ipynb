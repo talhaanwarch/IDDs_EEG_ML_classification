{
  "nbformat": 4,
  "nbformat_minor": 0,
  "metadata": {
    "colab": {
      "name": "MNE-features-Rest.ipynb",
      "provenance": [],
      "authorship_tag": "ABX9TyMvRPoZaJHw2dMBcxn4vV8S",
      "include_colab_link": true
    },
    "kernelspec": {
      "name": "python3",
      "display_name": "Python 3"
    }
  },
  "cells": [
    {
      "cell_type": "markdown",
      "metadata": {
        "id": "view-in-github",
        "colab_type": "text"
      },
      "source": [
        "<a href=\"https://colab.research.google.com/github/talhaanwarch/IDDs_EEG_ML_classification/blob/master/MNE_features_Rest.ipynb\" target=\"_parent\"><img src=\"https://colab.research.google.com/assets/colab-badge.svg\" alt=\"Open In Colab\"/></a>"
      ]
    },
    {
      "cell_type": "code",
      "metadata": {
        "id": "bkmYzGy1VjlJ",
        "colab_type": "code",
        "colab": {}
      },
      "source": [
        ""
      ],
      "execution_count": null,
      "outputs": []
    },
    {
      "cell_type": "markdown",
      "metadata": {
        "id": "KiYqDir8Vp3_",
        "colab_type": "text"
      },
      "source": [
        "https://www.biorxiv.org/content/10.1101/759738v1.full.pdf  \n",
        "https://www.sciencedirect.com/science/article/pii/S2352340920303826  \n",
        "https://data.mendeley.com/datasets/fshy54ypyh/1  "
      ]
    },
    {
      "cell_type": "code",
      "metadata": {
        "id": "Q7kodC1Q4fJq",
        "colab_type": "code",
        "colab": {}
      },
      "source": [
        "# %%capture\n",
        "# !pip install git+https://github.com/raphaelvallat/entropy.git"
      ],
      "execution_count": 1,
      "outputs": []
    },
    {
      "cell_type": "code",
      "metadata": {
        "id": "wpVm1sKS4hqU",
        "colab_type": "code",
        "colab": {
          "base_uri": "https://localhost:8080/",
          "height": 228
        },
        "outputId": "f7bd8d79-b21b-41eb-89cd-c300072ed4d8"
      },
      "source": [
        "!wget https://md-datasets-cache-zipfiles-prod.s3.eu-west-1.amazonaws.com/fshy54ypyh-1.zip"
      ],
      "execution_count": 2,
      "outputs": [
        {
          "output_type": "stream",
          "text": [
            "--2020-06-17 04:58:44--  https://md-datasets-cache-zipfiles-prod.s3.eu-west-1.amazonaws.com/fshy54ypyh-1.zip\n",
            "Resolving md-datasets-cache-zipfiles-prod.s3.eu-west-1.amazonaws.com (md-datasets-cache-zipfiles-prod.s3.eu-west-1.amazonaws.com)... 52.218.53.251\n",
            "Connecting to md-datasets-cache-zipfiles-prod.s3.eu-west-1.amazonaws.com (md-datasets-cache-zipfiles-prod.s3.eu-west-1.amazonaws.com)|52.218.53.251|:443... connected.\n",
            "HTTP request sent, awaiting response... 200 OK\n",
            "Length: 34220065 (33M) [application/octet-stream]\n",
            "Saving to: ‘fshy54ypyh-1.zip’\n",
            "\n",
            "fshy54ypyh-1.zip    100%[===================>]  32.63M  18.5MB/s    in 1.8s    \n",
            "\n",
            "2020-06-17 04:58:47 (18.5 MB/s) - ‘fshy54ypyh-1.zip’ saved [34220065/34220065]\n",
            "\n"
          ],
          "name": "stdout"
        }
      ]
    },
    {
      "cell_type": "code",
      "metadata": {
        "id": "92KQNEY0Jd1X",
        "colab_type": "code",
        "colab": {}
      },
      "source": [
        "%%capture\n",
        "!pip install git+https://github.com/mne-tools/mne-features.git#egg=mne_features"
      ],
      "execution_count": 3,
      "outputs": []
    },
    {
      "cell_type": "code",
      "metadata": {
        "id": "b3BkEaq74xhl",
        "colab_type": "code",
        "colab": {}
      },
      "source": [
        "%%capture \n",
        "!unzip fshy54ypyh-1.zip"
      ],
      "execution_count": 4,
      "outputs": []
    },
    {
      "cell_type": "code",
      "metadata": {
        "id": "dO3T5TnB43HF",
        "colab_type": "code",
        "colab": {
          "base_uri": "https://localhost:8080/",
          "height": 72
        },
        "outputId": "df71be43-9b85-4c0f-f536-73b1dfd35a25"
      },
      "source": [
        "import scipy.io\n",
        "from glob import glob\n",
        "import numpy as np\n",
        "from tqdm import tqdm\n",
        "from mne_features.feature_extraction import FeatureExtractor\n",
        "from mne_features.univariate   import compute_pow_freq_bands"
      ],
      "execution_count": 5,
      "outputs": [
        {
          "output_type": "stream",
          "text": [
            "/usr/local/lib/python3.6/dist-packages/sklearn/externals/joblib/__init__.py:15: FutureWarning: sklearn.externals.joblib is deprecated in 0.21 and will be removed in 0.23. Please import this functionality directly from joblib, which can be installed with: pip install joblib. If this warning is raised when loading pickled models, you may need to re-serialize those models with scikit-learn 0.21+.\n",
            "  warnings.warn(msg, category=FutureWarning)\n"
          ],
          "name": "stderr"
        }
      ]
    },
    {
      "cell_type": "code",
      "metadata": {
        "id": "RybFcg5_48w1",
        "colab_type": "code",
        "colab": {}
      },
      "source": [
        "IDD='/content/Data/Data/CleanData/Data/Data/CleanData/CleanData_IDD'\n",
        "TDC='/content/Data/CleanData/CleanData_TDC'"
      ],
      "execution_count": 6,
      "outputs": []
    },
    {
      "cell_type": "code",
      "metadata": {
        "id": "i1JpzDx15kBD",
        "colab_type": "code",
        "colab": {}
      },
      "source": [
        "!rm '/content/Data/Data/CleanData/Data/Data/CleanData/CleanData_IDD/Rest/NDS001_Rest_CD(1).mat'"
      ],
      "execution_count": 7,
      "outputs": []
    },
    {
      "cell_type": "code",
      "metadata": {
        "id": "4VI66v8B5Lj0",
        "colab_type": "code",
        "colab": {}
      },
      "source": [
        "IDD_rest=[]\n",
        "for i in glob(IDD+'/Rest/*.mat'):\n",
        "    data=scipy.io.loadmat(i)['clean_data'].reshape(14,-1,128*4)\n",
        "    data=np.swapaxes(data,0,1)\n",
        "    IDD_rest.append(data )\n",
        "\n",
        "TDC_rest=[]\n",
        "for i in glob(TDC+'/Rest/*.mat'):\n",
        "    data=scipy.io.loadmat(i)['clean_data'].reshape(14,-1,128*4)\n",
        "    data=np.swapaxes(data,0,1)\n",
        "    TDC_rest.append(data )"
      ],
      "execution_count": 8,
      "outputs": []
    },
    {
      "cell_type": "code",
      "metadata": {
        "id": "gwZ-lYJM5Qr4",
        "colab_type": "code",
        "colab": {
          "base_uri": "https://localhost:8080/",
          "height": 35
        },
        "outputId": "0dd25752-761a-458c-c6a3-c3dbe19c8dae"
      },
      "source": [
        "len(IDD_rest),len(TDC_rest)"
      ],
      "execution_count": 9,
      "outputs": [
        {
          "output_type": "execute_result",
          "data": {
            "text/plain": [
              "(7, 7)"
            ]
          },
          "metadata": {
            "tags": []
          },
          "execution_count": 9
        }
      ]
    },
    {
      "cell_type": "code",
      "metadata": {
        "id": "iL1RPZOO6YFf",
        "colab_type": "code",
        "colab": {
          "base_uri": "https://localhost:8080/",
          "height": 35
        },
        "outputId": "c6a927f0-10f8-45dc-ea81-d1e07856ecc7"
      },
      "source": [
        "print(IDD_rest[0].shape)"
      ],
      "execution_count": 10,
      "outputs": [
        {
          "output_type": "stream",
          "text": [
            "(30, 14, 512)\n"
          ],
          "name": "stdout"
        }
      ]
    },
    {
      "cell_type": "code",
      "metadata": {
        "id": "I4dqqcj8JJfn",
        "colab_type": "code",
        "colab": {}
      },
      "source": [
        "#for mne package shape shhould be trial,channel,length"
      ],
      "execution_count": 11,
      "outputs": []
    },
    {
      "cell_type": "code",
      "metadata": {
        "id": "LUTjYDHLKeYX",
        "colab_type": "code",
        "colab": {}
      },
      "source": [
        "\n",
        "def pow_freq(x):\n",
        "  return compute_pow_freq_bands(128,x,freq_bands=np.array([0.5, 4., 8., 13.,30.]))"
      ],
      "execution_count": 12,
      "outputs": []
    },
    {
      "cell_type": "code",
      "metadata": {
        "id": "G4FSmlwbHVjx",
        "colab_type": "code",
        "colab": {}
      },
      "source": [
        "feature=[('powfreq', pow_freq),'app_entropy', 'decorr_time', 'higuchi_fd', 'hjorth_complexity', 'hjorth_complexity_spect', 'hjorth_mobility', 'hjorth_mobility_spect', 'hurst_exp', 'katz_fd', 'kurtosis', 'line_length', 'mean', 'ptp_amp', 'samp_entropy', 'skewness', 'spect_entropy', 'spect_slope', 'std', 'svd_entropy', 'svd_fisher_info', 'teager_kaiser_energy', 'variance', 'wavelet_coef_energy', 'zero_crossings', 'max_cross_corr', 'nonlin_interdep', 'phase_lock_val', 'spect_corr', 'time_corr']\n",
        "fe = FeatureExtractor(sfreq=128, selected_funcs=feature)"
      ],
      "execution_count": 13,
      "outputs": []
    },
    {
      "cell_type": "code",
      "metadata": {
        "id": "GQTm7zkqHVgQ",
        "colab_type": "code",
        "colab": {
          "base_uri": "https://localhost:8080/",
          "height": 35
        },
        "outputId": "6623f8e9-5e87-4f13-a11d-178c871ec195"
      },
      "source": [
        "import warnings\n",
        "warnings.filterwarnings(\"ignore\")\n",
        "feature1=[]\n",
        "feature2=[]\n",
        "for i in tqdm(range(7)):\n",
        "  feature1.append(fe.fit_transform(IDD_rest[i]))\n",
        "  feature2.append(fe.fit_transform(TDC_rest[i]))"
      ],
      "execution_count": 14,
      "outputs": [
        {
          "output_type": "stream",
          "text": [
            "100%|██████████| 7/7 [16:50<00:00, 144.29s/it]\n"
          ],
          "name": "stderr"
        }
      ]
    },
    {
      "cell_type": "code",
      "metadata": {
        "id": "YB_cCYfiT_8p",
        "colab_type": "code",
        "colab": {
          "base_uri": "https://localhost:8080/",
          "height": 35
        },
        "outputId": "1596d956-249e-4400-f3f5-81474e1329bf"
      },
      "source": [
        "feature1[0].shape"
      ],
      "execution_count": 15,
      "outputs": [
        {
          "output_type": "execute_result",
          "data": {
            "text/plain": [
              "(30, 1169)"
            ]
          },
          "metadata": {
            "tags": []
          },
          "execution_count": 15
        }
      ]
    },
    {
      "cell_type": "code",
      "metadata": {
        "id": "_z8QRZcBHVc3",
        "colab_type": "code",
        "colab": {
          "base_uri": "https://localhost:8080/",
          "height": 35
        },
        "outputId": "b2b467ac-513a-4e14-de0d-d0d07136b3b1"
      },
      "source": [
        "x1=np.array(feature1)        \n",
        "x2=np.array(feature2) \n",
        "print(x1.shape,x2.shape)"
      ],
      "execution_count": 16,
      "outputs": [
        {
          "output_type": "stream",
          "text": [
            "(7, 30, 1169) (7, 30, 1169)\n"
          ],
          "name": "stdout"
        }
      ]
    },
    {
      "cell_type": "code",
      "metadata": {
        "id": "x8aOfoOoHVZf",
        "colab_type": "code",
        "colab": {
          "base_uri": "https://localhost:8080/",
          "height": 35
        },
        "outputId": "a8239dba-fff6-404b-80d9-eb757286d9df"
      },
      "source": [
        "X=np.concatenate((x1,x2),axis=0)\n",
        "\n",
        "y=np.concatenate(((np.zeros(x1.shape[0])),(np.ones(x2.shape[0]))))\n",
        "X.shape,y.shape"
      ],
      "execution_count": 17,
      "outputs": [
        {
          "output_type": "execute_result",
          "data": {
            "text/plain": [
              "((14, 30, 1169), (14,))"
            ]
          },
          "metadata": {
            "tags": []
          },
          "execution_count": 17
        }
      ]
    },
    {
      "cell_type": "code",
      "metadata": {
        "id": "A5RLL4CkHVWZ",
        "colab_type": "code",
        "colab": {
          "base_uri": "https://localhost:8080/",
          "height": 139
        },
        "outputId": "0624fe8b-c179-4355-b6c4-5a51f493f239"
      },
      "source": [
        "from sklearn.svm import SVC, LinearSVC, NuSVC\n",
        "from sklearn.model_selection import cross_val_score\n",
        "from sklearn.model_selection import GridSearchCV\n",
        "from sklearn.model_selection import KFold,LeaveOneOut,StratifiedKFold\n",
        "from sklearn.preprocessing import StandardScaler\n",
        "from sklearn.utils import shuffle\n",
        "\n",
        "score=[]\n",
        "for train,test in StratifiedKFold(7).split(X,y):\n",
        "  X_train=X[train].reshape(-1,X.shape[2])\n",
        "  X_test=X[test].reshape(-1,X.shape[2])\n",
        "  y_train=np.concatenate([[i]*X.shape[1] for i in y[train]])\n",
        "  y_test=np.concatenate([[i]*X.shape[1] for i in y[test]])\n",
        "  sc=StandardScaler()\n",
        "  X_train=sc.fit_transform(X_train)\n",
        "  X_test=sc.transform(X_test)\n",
        "\n",
        "  clf=SVC(kernel='rbf')\n",
        "  clf.fit(X_train,y_train)\n",
        "  print(clf.score(X_test,y_test))\n",
        "  score.append(clf.score(X_test,y_test))"
      ],
      "execution_count": 18,
      "outputs": [
        {
          "output_type": "stream",
          "text": [
            "0.9333333333333333\n",
            "0.9833333333333333\n",
            "0.5333333333333333\n",
            "1.0\n",
            "0.9666666666666667\n",
            "0.9833333333333333\n",
            "1.0\n"
          ],
          "name": "stdout"
        }
      ]
    },
    {
      "cell_type": "code",
      "metadata": {
        "id": "WXTGrNEMUkhE",
        "colab_type": "code",
        "colab": {
          "base_uri": "https://localhost:8080/",
          "height": 35
        },
        "outputId": "e9d5322e-1f2c-4106-fd9e-44d3e836c04b"
      },
      "source": [
        "np.mean(score)"
      ],
      "execution_count": 19,
      "outputs": [
        {
          "output_type": "execute_result",
          "data": {
            "text/plain": [
              "0.9142857142857143"
            ]
          },
          "metadata": {
            "tags": []
          },
          "execution_count": 19
        }
      ]
    },
    {
      "cell_type": "code",
      "metadata": {
        "id": "PVmjviIKXYjE",
        "colab_type": "code",
        "colab": {}
      },
      "source": [
        "from sklearn.metrics import accuracy_score, log_loss\n",
        "from sklearn.neighbors import KNeighborsClassifier\n",
        "from sklearn.svm import SVC, LinearSVC, NuSVC\n",
        "from sklearn.tree import DecisionTreeClassifier\n",
        "from sklearn.ensemble import RandomForestClassifier, AdaBoostClassifier, GradientBoostingClassifier\n",
        "from sklearn.naive_bayes import GaussianNB\n",
        "from sklearn.discriminant_analysis import LinearDiscriminantAnalysis\n",
        "from sklearn.discriminant_analysis import QuadraticDiscriminantAnalysis\n",
        "from sklearn.linear_model import LogisticRegression\n",
        "from sklearn.metrics import f1_score,accuracy_score\n",
        "classifiers = [\n",
        "    KNeighborsClassifier(),\n",
        "    SVC(),\n",
        "    NuSVC(),\n",
        "    DecisionTreeClassifier(),\n",
        "    RandomForestClassifier(),\n",
        "    AdaBoostClassifier(),\n",
        "    GradientBoostingClassifier(),\n",
        "    GaussianNB(),\n",
        "    LinearDiscriminantAnalysis(),\n",
        "    QuadraticDiscriminantAnalysis(),\n",
        "    LogisticRegression()]"
      ],
      "execution_count": 20,
      "outputs": []
    },
    {
      "cell_type": "code",
      "metadata": {
        "id": "7DjmcYxqX5wy",
        "colab_type": "code",
        "colab": {}
      },
      "source": [
        "accuracy_avg=[]\n",
        "accuracy_std=[]\n",
        "f1_avg=[]\n",
        "f1_std=[]\n",
        "for clfs in classifiers:\n",
        "    # print('====================================')\n",
        "    # name = clfs.__class__.__name__\n",
        "    # print(name)\n",
        "    acc_scores=[]\n",
        "    f1_scores=[]\n",
        "    for train,test in StratifiedKFold(7).split(X,y):\n",
        "      X_train=X[train].reshape(-1,X.shape[2])\n",
        "      X_test=X[test].reshape(-1,X.shape[2])\n",
        "      y_train=np.concatenate([[i]*X.shape[1] for i in y[train]])\n",
        "      y_test=np.concatenate([[i]*X.shape[1] for i in y[test]])\n",
        "      sc=StandardScaler()\n",
        "      X_train=sc.fit_transform(X_train)\n",
        "      X_test=sc.transform(X_test)\n",
        "      X_train, y_train = shuffle(X_train, y_train)\n",
        "\n",
        "      clfs.fit(X_train,y_train)\n",
        "      y_pred=clfs.predict(X_test)\n",
        "      acc_scores.append(accuracy_score(y_test,y_pred))\n",
        "      f1_scores.append(f1_score(y_test,y_pred))\n",
        "    accuracy_avg.append(np.mean(acc_scores))\n",
        "    accuracy_std.append(np.std(acc_scores))\n",
        "    f1_avg.append(np.mean(f1_scores))\n",
        "    f1_std.append(np.std(f1_scores))"
      ],
      "execution_count": 21,
      "outputs": []
    },
    {
      "cell_type": "code",
      "metadata": {
        "id": "3ugeTWufX58e",
        "colab_type": "code",
        "colab": {
          "base_uri": "https://localhost:8080/",
          "height": 315
        },
        "outputId": "537b7b8c-6781-48e8-ad01-8ff54c4142ed"
      },
      "source": [
        "import matplotlib.pyplot as plt\n",
        "classifier=['KNN','SVC','nuSCV','DT','RF','ADA','GB','NB','LDA','QDA','LR']\n",
        "y_pos = np.arange(len(classifier))\n",
        "plt.bar(y_pos,np.array(accuracy_avg))\n",
        "ys=np.array(accuracy_avg)\n",
        "for index, value in enumerate(ys):\n",
        "    plt.text(index-0.2,value-0.2, str(np.round(value,2)),rotation=90,color='white',fontsize=12)\n",
        "plt.xticks(y_pos, classifier)\n",
        "plt.ylabel('Accuracy',fontsize=12)\n",
        "plt.xlabel('Classifiers',fontsize=12)\n",
        "plt.title('Classifiers Accuracy',fontsize=12)\n"
      ],
      "execution_count": 22,
      "outputs": [
        {
          "output_type": "execute_result",
          "data": {
            "text/plain": [
              "Text(0.5, 1.0, 'Classifiers Accuracy')"
            ]
          },
          "metadata": {
            "tags": []
          },
          "execution_count": 22
        },
        {
          "output_type": "display_data",
          "data": {
            "image/png": "[encoded data removed]",
            "text/plain": [
              "<Figure size 432x288 with 1 Axes>"
            ]
          },
          "metadata": {
            "tags": [],
            "needs_background": "light"
          }
        }
      ]
    },
    {
      "cell_type": "code",
      "metadata": {
        "id": "u31TcKymdmgj",
        "colab_type": "code",
        "colab": {
          "base_uri": "https://localhost:8080/",
          "height": 315
        },
        "outputId": "49de1854-f1bb-49e3-d1dc-2efa94268d87"
      },
      "source": [
        "import matplotlib.pyplot as plt\n",
        "classifier=['KNN','SVC','nuSCV','DT','RF','ADA','GB','NB','LDA','QDA','LR']\n",
        "y_pos = np.arange(len(classifier))\n",
        "#plt.bar(y_pos,np.array(f1_avg),yerr=np.array(f1_std))\n",
        "plt.bar(y_pos,np.array(f1_avg))\n",
        "ys=np.array(f1_avg)\n",
        "for index, value in enumerate(ys):\n",
        "    plt.text(index-0.2,value-0.2, str(np.round(value,2)),rotation=90,color='white',fontsize=12)\n",
        "plt.xticks(y_pos, classifier)\n",
        "plt.ylabel('Accuracy',fontsize=12)\n",
        "plt.xlabel('Classifiers',fontsize=12)\n",
        "plt.title('Classifiers Accuracy',fontsize=12)"
      ],
      "execution_count": 23,
      "outputs": [
        {
          "output_type": "execute_result",
          "data": {
            "text/plain": [
              "Text(0.5, 1.0, 'Classifiers Accuracy')"
            ]
          },
          "metadata": {
            "tags": []
          },
          "execution_count": 23
        },
        {
          "output_type": "display_data",
          "data": {
            "image/png": "[encoded data removed]",
            "text/plain": [
              "<Figure size 432x288 with 1 Axes>"
            ]
          },
          "metadata": {
            "tags": [],
            "needs_background": "light"
          }
        }
      ]
    },
    {
      "cell_type": "code",
      "metadata": {
        "id": "KSxtdImimrDN",
        "colab_type": "code",
        "colab": {}
      },
      "source": [
        ""
      ],
      "execution_count": 23,
      "outputs": []
    }
  ]
}