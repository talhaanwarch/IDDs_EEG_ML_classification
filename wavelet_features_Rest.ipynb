{
  "nbformat": 4,
  "nbformat_minor": 0,
  "metadata": {
    "colab": {
      "name": "wavelet-features-Rest.ipynb",
      "provenance": [],
      "authorship_tag": "ABX9TyOd2wri8sf89nsIacO7eEeS",
      "include_colab_link": true
    },
    "kernelspec": {
      "name": "python3",
      "display_name": "Python 3"
    }
  },
  "cells": [
    {
      "cell_type": "markdown",
      "metadata": {
        "id": "view-in-github",
        "colab_type": "text"
      },
      "source": [
        "<a href=\"https://colab.research.google.com/github/talhaanwarch/IDDs_EEG_ML_classification/blob/master/wavelet_features_Rest.ipynb\" target=\"_parent\"><img src=\"https://colab.research.google.com/assets/colab-badge.svg\" alt=\"Open In Colab\"/></a>"
      ]
    },
    {
      "cell_type": "code",
      "metadata": {
        "id": "bkmYzGy1VjlJ",
        "colab_type": "code",
        "colab": {}
      },
      "source": [
        ""
      ],
      "execution_count": null,
      "outputs": []
    },
    {
      "cell_type": "markdown",
      "metadata": {
        "id": "KiYqDir8Vp3_",
        "colab_type": "text"
      },
      "source": [
        "https://www.biorxiv.org/content/10.1101/759738v1.full.pdf  \n",
        "https://www.sciencedirect.com/science/article/pii/S2352340920303826  \n",
        "https://data.mendeley.com/datasets/fshy54ypyh/1  "
      ]
    },
    {
      "cell_type": "code",
      "metadata": {
        "id": "wpVm1sKS4hqU",
        "colab_type": "code",
        "colab": {
          "base_uri": "https://localhost:8080/",
          "height": 228
        },
        "outputId": "ce0eaef3-96f8-41a5-c52e-7ea58a20ffb2"
      },
      "source": [
        "!wget https://md-datasets-cache-zipfiles-prod.s3.eu-west-1.amazonaws.com/fshy54ypyh-1.zip"
      ],
      "execution_count": 1,
      "outputs": [
        {
          "output_type": "stream",
          "text": [
            "--2020-06-17 15:15:18--  https://md-datasets-cache-zipfiles-prod.s3.eu-west-1.amazonaws.com/fshy54ypyh-1.zip\n",
            "Resolving md-datasets-cache-zipfiles-prod.s3.eu-west-1.amazonaws.com (md-datasets-cache-zipfiles-prod.s3.eu-west-1.amazonaws.com)... 52.218.106.176\n",
            "Connecting to md-datasets-cache-zipfiles-prod.s3.eu-west-1.amazonaws.com (md-datasets-cache-zipfiles-prod.s3.eu-west-1.amazonaws.com)|52.218.106.176|:443... connected.\n",
            "HTTP request sent, awaiting response... 200 OK\n",
            "Length: 34220065 (33M) [application/octet-stream]\n",
            "Saving to: ‘fshy54ypyh-1.zip’\n",
            "\n",
            "fshy54ypyh-1.zip    100%[===================>]  32.63M  19.7MB/s    in 1.7s    \n",
            "\n",
            "2020-06-17 15:15:20 (19.7 MB/s) - ‘fshy54ypyh-1.zip’ saved [34220065/34220065]\n",
            "\n"
          ],
          "name": "stdout"
        }
      ]
    },
    {
      "cell_type": "code",
      "metadata": {
        "id": "b3BkEaq74xhl",
        "colab_type": "code",
        "colab": {}
      },
      "source": [
        "%%capture \n",
        "!unzip fshy54ypyh-1.zip"
      ],
      "execution_count": 2,
      "outputs": []
    },
    {
      "cell_type": "code",
      "metadata": {
        "id": "dO3T5TnB43HF",
        "colab_type": "code",
        "colab": {}
      },
      "source": [
        "import scipy.io\n",
        "from glob import glob\n",
        "import numpy as np\n",
        "from tqdm import tqdm\n"
      ],
      "execution_count": 3,
      "outputs": []
    },
    {
      "cell_type": "code",
      "metadata": {
        "id": "AmWVsBxHv8eD",
        "colab_type": "code",
        "colab": {}
      },
      "source": [
        "from sklearn.metrics import accuracy_score, log_loss\n",
        "from sklearn.neighbors import KNeighborsClassifier\n",
        "from sklearn.svm import SVC, LinearSVC, NuSVC\n",
        "from sklearn.tree import DecisionTreeClassifier\n",
        "from sklearn.ensemble import RandomForestClassifier, AdaBoostClassifier, GradientBoostingClassifier\n",
        "from sklearn.naive_bayes import GaussianNB\n",
        "from sklearn.discriminant_analysis import LinearDiscriminantAnalysis\n",
        "from sklearn.discriminant_analysis import QuadraticDiscriminantAnalysis\n",
        "from sklearn.linear_model import LogisticRegression\n",
        "from sklearn.metrics import f1_score,accuracy_score\n",
        "from sklearn.model_selection import KFold,LeaveOneOut,StratifiedKFold\n",
        "from sklearn.preprocessing import StandardScaler\n",
        "from sklearn.utils import shuffle\n",
        "import xgboost as xgb\n"
      ],
      "execution_count": 4,
      "outputs": []
    },
    {
      "cell_type": "code",
      "metadata": {
        "id": "RybFcg5_48w1",
        "colab_type": "code",
        "colab": {}
      },
      "source": [
        "IDD='/content/Data/Data/CleanData/Data/Data/CleanData/CleanData_IDD'\n",
        "TDC='/content/Data/CleanData/CleanData_TDC'"
      ],
      "execution_count": 5,
      "outputs": []
    },
    {
      "cell_type": "code",
      "metadata": {
        "id": "i1JpzDx15kBD",
        "colab_type": "code",
        "colab": {}
      },
      "source": [
        "!rm '/content/Data/Data/CleanData/Data/Data/CleanData/CleanData_IDD/Rest/NDS001_Rest_CD(1).mat'"
      ],
      "execution_count": 6,
      "outputs": []
    },
    {
      "cell_type": "code",
      "metadata": {
        "id": "4VI66v8B5Lj0",
        "colab_type": "code",
        "colab": {}
      },
      "source": [
        "IDD_rest=[]\n",
        "for i in glob(IDD+'/Rest/*.mat'):\n",
        "    data=scipy.io.loadmat(i)['clean_data'].reshape(14,-1,128*4)\n",
        "    data=np.swapaxes(data,0,1)\n",
        "    IDD_rest.append(data )\n",
        "\n",
        "TDC_rest=[]\n",
        "for i in glob(TDC+'/Rest/*.mat'):\n",
        "    data=scipy.io.loadmat(i)['clean_data'].reshape(14,-1,128*4)\n",
        "    data=np.swapaxes(data,0,1)\n",
        "    TDC_rest.append(data )"
      ],
      "execution_count": 7,
      "outputs": []
    },
    {
      "cell_type": "code",
      "metadata": {
        "id": "PVmjviIKXYjE",
        "colab_type": "code",
        "colab": {}
      },
      "source": [
        ""
      ],
      "execution_count": 7,
      "outputs": []
    },
    {
      "cell_type": "code",
      "metadata": {
        "id": "dD1Sd2KCHAbX",
        "colab_type": "code",
        "colab": {}
      },
      "source": [
        "# import pywt\n",
        "# def wavelet_coefs(data, wavelet_name='db10'):\n",
        "#     wavelet = pywt.Wavelet(wavelet_name)\n",
        "#     levdec = min(pywt.dwt_max_level(data.shape[-1], wavelet.dec_len), 6)\n",
        "#     coefs = pywt.wavedec(data, wavelet=wavelet, level=None)\n",
        "#     n_channels, n_times = data.shape\n",
        "#     levdec = len(coefs) - 1\n",
        "#     wavelet_energy = np.zeros((n_channels, levdec))\n",
        "#     for j in range(n_channels):\n",
        "#         for l in range(levdec):\n",
        "#             #wavelet_energy[j, l] = np.sum(coefs[levdec - l][j, :] ** 2)\n",
        "#             wavelet_energy[j, l] = np.std(coefs[levdec - l][j, :])\n",
        "#     return wavelet_energy.ravel()"
      ],
      "execution_count": 8,
      "outputs": []
    },
    {
      "cell_type": "code",
      "metadata": {
        "id": "SJENydpczOoO",
        "colab_type": "code",
        "colab": {}
      },
      "source": [
        "import pywt\n",
        "\n",
        "def wavelet_coefs(data, wavelet_name='db10'):\n",
        "  coefs = pywt.wavedec(data, wavelet=wavelet_name, level=None)\n",
        "  n_channels, n_times = data.shape\n",
        "  levdec = len(coefs) - 1\n",
        "  wavelet_energy = np.zeros((n_channels, levdec))\n",
        "  for j in range(n_channels):\n",
        "    for l in range(levdec):\n",
        "      #wavelet_energy[j, l] = np.sum(coefs[levdec - l][j, :] ** 2)\n",
        "      wavelet_energy[j, l] = np.mean(coefs[levdec - l][j, :])\n",
        "  return wavelet_energy.ravel()"
      ],
      "execution_count": 35,
      "outputs": []
    },
    {
      "cell_type": "code",
      "metadata": {
        "id": "z4BKNfJ4oGGi",
        "colab_type": "code",
        "colab": {
          "base_uri": "https://localhost:8080/",
          "height": 35
        },
        "outputId": "b5c954fa-2838-4257-8d50-19358a3a7fec"
      },
      "source": [
        "import warnings\n",
        "warnings.filterwarnings(\"ignore\")\n",
        "features1=[]\n",
        "features2=[]\n",
        "for k in tqdm(range(7)):\n",
        "  feature1=[]\n",
        "  feature2=[]\n",
        "  for i in range(30):  \n",
        "    feature1.append(wavelet_coefs(IDD_rest[k][i]))\n",
        "    feature2.append(wavelet_coefs(TDC_rest[k][i]))\n",
        "  features1.append(np.array(feature1))\n",
        "  features2.append(np.array(feature2))\n",
        "\n"
      ],
      "execution_count": 36,
      "outputs": [
        {
          "output_type": "stream",
          "text": [
            "100%|██████████| 7/7 [00:00<00:00, 15.54it/s]\n"
          ],
          "name": "stderr"
        }
      ]
    },
    {
      "cell_type": "code",
      "metadata": {
        "id": "0ZzMIQP3vJpQ",
        "colab_type": "code",
        "colab": {
          "base_uri": "https://localhost:8080/",
          "height": 35
        },
        "outputId": "e847e2fd-a4d2-4d85-ec25-696d1609d370"
      },
      "source": [
        "x1=np.array(features1)        \n",
        "x2=np.array(features2) \n",
        "print(x1.shape,x2.shape)"
      ],
      "execution_count": 37,
      "outputs": [
        {
          "output_type": "stream",
          "text": [
            "(7, 30, 56) (7, 30, 56)\n"
          ],
          "name": "stdout"
        }
      ]
    },
    {
      "cell_type": "code",
      "metadata": {
        "id": "Z-WASHE3vK9T",
        "colab_type": "code",
        "colab": {
          "base_uri": "https://localhost:8080/",
          "height": 35
        },
        "outputId": "09f0d37d-1649-4955-9bea-e8e9d56ed192"
      },
      "source": [
        "X=np.concatenate((x1,x2),axis=0)\n",
        "\n",
        "y=np.concatenate(((np.zeros(x1.shape[0])),(np.ones(x2.shape[0]))))\n",
        "X.shape,y.shape"
      ],
      "execution_count": 38,
      "outputs": [
        {
          "output_type": "execute_result",
          "data": {
            "text/plain": [
              "((14, 30, 56), (14,))"
            ]
          },
          "metadata": {
            "tags": []
          },
          "execution_count": 38
        }
      ]
    },
    {
      "cell_type": "code",
      "metadata": {
        "id": "eRIz8HnhrQjl",
        "colab_type": "code",
        "colab": {}
      },
      "source": [
        "classifiers = [\n",
        "    KNeighborsClassifier(),\n",
        "    SVC(),\n",
        "    NuSVC(),\n",
        "    DecisionTreeClassifier(),\n",
        "    RandomForestClassifier(),\n",
        "    AdaBoostClassifier(),\n",
        "    GradientBoostingClassifier(),\n",
        "    GaussianNB(),\n",
        "    #xgb.XGBClassifier(),\n",
        "    LinearDiscriminantAnalysis(),\n",
        "    QuadraticDiscriminantAnalysis(),\n",
        "    LogisticRegression()]"
      ],
      "execution_count": 39,
      "outputs": []
    },
    {
      "cell_type": "code",
      "metadata": {
        "id": "hAqGGrrgr4fW",
        "colab_type": "code",
        "colab": {}
      },
      "source": [
        "accuracy_avg=[]\n",
        "accuracy_std=[]\n",
        "f1_avg=[]\n",
        "f1_std=[]\n",
        "for clfs in classifiers:\n",
        "    # print('====================================')\n",
        "    # name = clfs.__class__.__name__\n",
        "    # print(name)\n",
        "    acc_scores=[]\n",
        "    f1_scores=[]\n",
        "    for train,test in StratifiedKFold(7).split(X,y):\n",
        "      X_train=X[train].reshape(-1,X.shape[2])\n",
        "      X_test=X[test].reshape(-1,X.shape[2])\n",
        "      y_train=np.concatenate([[i]*X.shape[1] for i in y[train]])\n",
        "      y_test=np.concatenate([[i]*X.shape[1] for i in y[test]])\n",
        "      sc=StandardScaler()\n",
        "      X_train=sc.fit_transform(X_train)\n",
        "      X_test=sc.transform(X_test)\n",
        "      X_train, y_train = shuffle(X_train, y_train)\n",
        "      \n",
        "      clfs.fit(X_train,y_train)\n",
        "      y_pred=clfs.predict(X_test)\n",
        "      acc_scores.append(accuracy_score(y_test,y_pred))\n",
        "      f1_scores.append(f1_score(y_test,y_pred))\n",
        "    accuracy_avg.append(np.mean(acc_scores))\n",
        "    accuracy_std.append(np.std(acc_scores))\n",
        "    f1_avg.append(np.mean(f1_scores))\n",
        "    f1_std.append(np.std(f1_scores))"
      ],
      "execution_count": 40,
      "outputs": []
    },
    {
      "cell_type": "code",
      "metadata": {
        "id": "-AzgF1Lor40Q",
        "colab_type": "code",
        "colab": {
          "base_uri": "https://localhost:8080/",
          "height": 315
        },
        "outputId": "1e1ea204-97e7-4e5d-bf9a-b207726bb243"
      },
      "source": [
        "import matplotlib.pyplot as plt\n",
        "classifier=['KNN','SVC','nuSCV','DT','RF','ADA','GB','NB','LDA','QDA','LR']\n",
        "y_pos = np.arange(len(classifier))\n",
        "plt.bar(y_pos,np.array(accuracy_avg))\n",
        "ys=np.array(accuracy_avg)\n",
        "for index, value in enumerate(ys):\n",
        "    plt.text(index-0.2,value-0.2, str(np.round(value,2)),rotation=90,color='white',fontsize=12)\n",
        "plt.xticks(y_pos, classifier)\n",
        "plt.ylabel('Accuracy',fontsize=12)\n",
        "plt.xlabel('Classifiers',fontsize=12)\n",
        "plt.title('Classifiers Accuracy',fontsize=12)\n"
      ],
      "execution_count": 41,
      "outputs": [
        {
          "output_type": "execute_result",
          "data": {
            "text/plain": [
              "Text(0.5, 1.0, 'Classifiers Accuracy')"
            ]
          },
          "metadata": {
            "tags": []
          },
          "execution_count": 41
        },
        {
          "output_type": "display_data",
          "data": {
            "image/png": "[encoded data removed]",
            "text/plain": [
              "<Figure size 432x288 with 1 Axes>"
            ]
          },
          "metadata": {
            "tags": [],
            "needs_background": "light"
          }
        }
      ]
    },
    {
      "cell_type": "code",
      "metadata": {
        "id": "7UURPanmsB3a",
        "colab_type": "code",
        "colab": {
          "base_uri": "https://localhost:8080/",
          "height": 319
        },
        "outputId": "c2e87515-152d-4a67-dadc-414bae76dadb"
      },
      "source": [
        "import matplotlib.pyplot as plt\n",
        "classifier=['KNN','SVC','nuSCV','DT','RF','ADA','GB','NB','LDA','QDA','LR']\n",
        "y_pos = np.arange(len(classifier))\n",
        "#plt.bar(y_pos,np.array(f1_avg),yerr=np.array(f1_std))\n",
        "plt.bar(y_pos,np.array(f1_avg))\n",
        "ys=np.array(f1_avg)\n",
        "for index, value in enumerate(ys):\n",
        "    plt.text(index-0.2,value-0.2, str(np.round(value,2)),rotation=90,color='white',fontsize=12)\n",
        "plt.xticks(y_pos, classifier)\n",
        "plt.ylabel('F1-Score',fontsize=12)\n",
        "plt.xlabel('Classifiers',fontsize=12)\n",
        "plt.title('Classifiers F1-Score',fontsize=12)"
      ],
      "execution_count": 42,
      "outputs": [
        {
          "output_type": "execute_result",
          "data": {
            "text/plain": [
              "Text(0.5, 1.0, 'Classifiers F1-Score')"
            ]
          },
          "metadata": {
            "tags": []
          },
          "execution_count": 42
        },
        {
          "output_type": "display_data",
          "data": {
            "image/png": "[encoded data removed]",
            "text/plain": [
              "<Figure size 432x288 with 1 Axes>"
            ]
          },
          "metadata": {
            "tags": [],
            "needs_background": "light"
          }
        }
      ]
    },
    {
      "cell_type": "code",
      "metadata": {
        "id": "TMhu5oEowgGu",
        "colab_type": "code",
        "colab": {}
      },
      "source": [
        ""
      ],
      "execution_count": 34,
      "outputs": []
    }
  ]
}